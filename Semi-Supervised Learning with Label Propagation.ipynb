{
 "cells": [
  {
   "cell_type": "markdown",
   "id": "113104b8",
   "metadata": {},
   "source": [
    "Semi-Supervised Classification Dataset"
   ]
  },
  {
   "cell_type": "code",
   "execution_count": 1,
   "id": "3282f931",
   "metadata": {},
   "outputs": [
    {
     "name": "stdout",
     "output_type": "stream",
     "text": [
      "Accuracy: 88.600\n"
     ]
    }
   ],
   "source": [
    "from sklearn.datasets import make_classification\n",
    "from sklearn.model_selection import train_test_split\n",
    "from sklearn.metrics import accuracy_score\n",
    "from sklearn.linear_model import LogisticRegression\n",
    "\n",
    "# define the dataset\n",
    "X, y = make_classification(n_samples=1000, n_features=2, n_informative=2, n_redundant=0, random_state=42)\n",
    "\n",
    "# split data into train and test set\n",
    "X_train, X_test, y_train, y_test = train_test_split(X, y, test_size=0.50, random_state=42, stratify=y)\n",
    "\n",
    "# split train into labelled and unlabelled\n",
    "X_train_lab, X_test_unlab, y_train_lab, y_test_unlab = train_test_split(X_train, y_train, test_size=0.50, random_state=42, stratify=y_train)\n",
    "\n",
    "# define model\n",
    "model = LogisticRegression()\n",
    "\n",
    "# fit model on labelled dataset\n",
    "model.fit(X_train_lab, y_train_lab)\n",
    "\n",
    "# make predictions\n",
    "yhat = model.predict(X_test)\n",
    "\n",
    "# calculate tscore for the test\n",
    "score = accuracy_score(y_test, yhat)\n",
    "\n",
    "# summarize score\n",
    "print('Accuracy: %.3f' % (score*100))"
   ]
  },
  {
   "cell_type": "markdown",
   "id": "b4c938a3",
   "metadata": {},
   "source": [
    "Label Propagation for Semi-Supervised Learning"
   ]
  },
  {
   "cell_type": "code",
   "execution_count": 5,
   "id": "ccb1c530",
   "metadata": {},
   "outputs": [
    {
     "name": "stdout",
     "output_type": "stream",
     "text": [
      "Accuracy: 92.800\n"
     ]
    }
   ],
   "source": [
    "from numpy import concatenate\n",
    "from sklearn.datasets import make_classification\n",
    "from sklearn.model_selection import train_test_split\n",
    "from sklearn.metrics import accuracy_score\n",
    "from sklearn.semi_supervised import LabelPropagation\n",
    "\n",
    "# define the dataset\n",
    "X, y = make_classification(n_samples=1000, n_features=2, n_informative=2, n_redundant=0, random_state=42)\n",
    "\n",
    "# split data into train and test set\n",
    "X_train, X_test, y_train, y_test = train_test_split(X, y, test_size=0.50, random_state=42, stratify=y)\n",
    "\n",
    "# split train into labelled and unlabelled\n",
    "X_train_lab, X_test_unlab, y_train_lab, y_test_unlab = train_test_split(X_train, y_train, test_size=0.50, random_state=42, stratify=y_train)\n",
    "\n",
    "# create training dataset\n",
    "X_train_mixed = concatenate((X_train_lab, X_test_unlab))\n",
    "\n",
    "# create \"no label\" for unlabelled data\n",
    "nolabel = [-1 for _ in range(len(y_test_unlab))]\n",
    "\n",
    "# recombine training dataset labels\n",
    "y_train_mixed = concatenate((y_train_lab, nolabel))\n",
    "\n",
    "# define model\n",
    "model = LabelPropagation()\n",
    "\n",
    "# fit model on training data\n",
    "model.fit(X_train_mixed, y_train_mixed)\n",
    "\n",
    "# make prediction on test set\n",
    "yhat = model.predict(X_test)\n",
    "\n",
    "# calculate score for test set\n",
    "score = accuracy_score(y_test, yhat)\n",
    "\n",
    "# summarize score \n",
    "print('Accuracy: %.3f' % (score*100))"
   ]
  },
  {
   "cell_type": "markdown",
   "id": "75956cc7",
   "metadata": {},
   "source": [
    "Alternate Approach - Taking estimated labels for training dataset and fit a supervised learning model"
   ]
  },
  {
   "cell_type": "code",
   "execution_count": 6,
   "id": "6b5a0966",
   "metadata": {},
   "outputs": [
    {
     "name": "stdout",
     "output_type": "stream",
     "text": [
      "Accuracy: 88.400\n"
     ]
    }
   ],
   "source": [
    "from numpy import concatenate\n",
    "from sklearn.datasets import make_classification\n",
    "from sklearn.model_selection import train_test_split\n",
    "from sklearn.metrics import accuracy_score\n",
    "from sklearn.semi_supervised import LabelPropagation\n",
    "from sklearn.linear_model import LogisticRegression\n",
    "\n",
    "# define the dataset\n",
    "X, y = make_classification(n_samples=1000, n_features=2, n_informative=2, n_redundant=0, random_state=42)\n",
    "\n",
    "# split data into train and test set\n",
    "X_train, X_test, y_train, y_test = train_test_split(X, y, test_size=0.50, random_state=42, stratify=y)\n",
    "\n",
    "# split train into labelled and unlabelled\n",
    "X_train_lab, X_test_unlab, y_train_lab, y_test_unlab = train_test_split(X_train, y_train, test_size=0.50, random_state=42, stratify=y_train)\n",
    "\n",
    "# create training dataset\n",
    "X_train_mixed = concatenate((X_train_lab, X_test_unlab))\n",
    "\n",
    "# create \"no label\" for unlabelled data\n",
    "nolabel = [-1 for _ in range(len(y_test_unlab))]\n",
    "\n",
    "# recombine training dataset labels\n",
    "y_train_mixed = concatenate((y_train_lab, nolabel))\n",
    "\n",
    "# define model\n",
    "model = LabelPropagation()\n",
    "\n",
    "# fit model on training data\n",
    "model.fit(X_train_mixed, y_train_mixed)\n",
    "\n",
    "# get labels for entire training dataset data\n",
    "trans_labels = model.transduction_\n",
    "\n",
    "# define supervised learning model\n",
    "model2 = LogisticRegression()\n",
    "\n",
    "# fit supervised learning model on entire training dataset\n",
    "model2.fit(X_train_mixed, trans_labels)\n",
    "\n",
    "# make predictions on test set\n",
    "yhat = model2.predict(X_test)\n",
    "\n",
    "# calculate score for test set\n",
    "score = accuracy_score(yhat, y_test)\n",
    "\n",
    "# summarize score\n",
    "print('Accuracy: %.3f' % (score*100))"
   ]
  }
 ],
 "metadata": {
  "kernelspec": {
   "display_name": "Python 3 (ipykernel)",
   "language": "python",
   "name": "python3"
  },
  "language_info": {
   "codemirror_mode": {
    "name": "ipython",
    "version": 3
   },
   "file_extension": ".py",
   "mimetype": "text/x-python",
   "name": "python",
   "nbconvert_exporter": "python",
   "pygments_lexer": "ipython3",
   "version": "3.9.12"
  }
 },
 "nbformat": 4,
 "nbformat_minor": 5
}
